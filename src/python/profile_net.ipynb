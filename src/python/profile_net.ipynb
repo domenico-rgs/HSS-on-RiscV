{
 "cells": [
  {
   "cell_type": "code",
   "execution_count": 1,
   "metadata": {},
   "outputs": [
    {
     "name": "stderr",
     "output_type": "stream",
     "text": [
      "2023-04-08 11:50:20.370435: I tensorflow/core/platform/cpu_feature_guard.cc:193] This TensorFlow binary is optimized with oneAPI Deep Neural Network Library (oneDNN) to use the following CPU instructions in performance-critical operations:  AVX2 FMA\n",
      "To enable them in other operations, rebuild TensorFlow with the appropriate compiler flags.\n",
      "2023-04-08 11:50:23.009708: W tensorflow/compiler/xla/stream_executor/platform/default/dso_loader.cc:64] Could not load dynamic library 'libnvinfer.so.7'; dlerror: libnvinfer.so.7: cannot open shared object file: No such file or directory\n",
      "2023-04-08 11:50:23.010087: W tensorflow/compiler/xla/stream_executor/platform/default/dso_loader.cc:64] Could not load dynamic library 'libnvinfer_plugin.so.7'; dlerror: libnvinfer_plugin.so.7: cannot open shared object file: No such file or directory\n",
      "2023-04-08 11:50:23.010106: W tensorflow/compiler/tf2tensorrt/utils/py_utils.cc:38] TF-TRT Warning: Cannot dlopen some TensorRT libraries. If you would like to use Nvidia GPU with TensorRT, please make sure the missing libraries mentioned above are installed properly.\n"
     ]
    },
    {
     "name": "stdout",
     "output_type": "stream",
     "text": [
      "Num available GPU: 0\n"
     ]
    },
    {
     "name": "stderr",
     "output_type": "stream",
     "text": [
      "2023-04-08 11:50:25.663457: E tensorflow/compiler/xla/stream_executor/cuda/cuda_driver.cc:267] failed call to cuInit: CUDA_ERROR_NO_DEVICE: no CUDA-capable device is detected\n",
      "2023-04-08 11:50:25.663522: I tensorflow/compiler/xla/stream_executor/cuda/cuda_diagnostics.cc:156] kernel driver does not appear to be running on this host (phoenix): /proc/driver/nvidia/version does not exist\n",
      "2023-04-08 11:50:25.687621: I tensorflow/core/platform/cpu_feature_guard.cc:193] This TensorFlow binary is optimized with oneAPI Deep Neural Network Library (oneDNN) to use the following CPU instructions in performance-critical operations:  AVX2 FMA\n",
      "To enable them in other operations, rebuild TensorFlow with the appropriate compiler flags.\n"
     ]
    },
    {
     "name": "stdout",
     "output_type": "stream",
     "text": [
      "Processed 1 samples - time: 13.978230723000252 seconds\n",
      "Processed 31 samples - time: 324.48040604000016 seconds\n",
      "Processed 61 samples - time: 667.7509717850003 seconds\n",
      "Processed 91 samples - time: 959.2170000890001 seconds\n",
      "Processed 121 samples - time: 1259.7423394890002 seconds\n",
      "Processed 151 samples - time: 1568.062878234 seconds\n",
      "Total execution time for 168 samples is: 1749.9553217670004 seconds\n"
     ]
    }
   ],
   "source": [
    "import numpy as np\n",
    "from tensorflow.keras import layers, Input, Model\n",
    "from models import *\n",
    "import time\n",
    "import os\n",
    "\n",
    "#os.environ[\"CUDA_VISIBLE_DEVICES\"] = \"-1\"\n",
    "import tensorflow as tf\n",
    "\n",
    "print(\"Num available GPU:\",len(tf.config.list_physical_devices('GPU')))\n",
    "\n",
    "start_time = time.perf_counter()\n",
    "# Load the weigths in parameters_v2\n",
    "time1 = time.perf_counter()\n",
    "\n",
    "model = get_model()\n",
    "model.load_weights('parameters.h5')\n",
    "\n",
    "f=open('python_res.txt','a')\n",
    "\n",
    "# Load test data\n",
    "for i in range(169):\n",
    "    X = np.load('../../data/test_data/X_'+str(i)+'.npy')\n",
    "    #time2 = time.perf_counter()\n",
    "\n",
    "    for j in range(250): #to be similar to c code\n",
    "        tmp = np.reshape(X[j,:,:], (1, 64, 4))\n",
    "        tmp= tf.convert_to_tensor(tmp, dtype=tf.float32)\n",
    "        output = model(tmp)\n",
    "\n",
    "#       if(i==168 and j==249):\n",
    "        #np.savetxt(f, (output[0, :, :]).numpy(),fmt='%.7f')\n",
    "\n",
    "    if(i%30==0):\n",
    "        print(\"Processed \"+str(i+1)+f\" samples - time: {time.perf_counter() - start_time} seconds\")\n",
    "\n",
    "print(\"Total execution time for \"+str(i)+f\" samples is: {time.perf_counter() - start_time} seconds\")\n",
    "f.close()\n",
    "#np.savetxt('python_result.txt', (output[0, :, :]).numpy(),fmt='%f')"
   ]
  }
 ],
 "metadata": {
  "kernelspec": {
   "display_name": "Python 3",
   "language": "python",
   "name": "python3"
  },
  "language_info": {
   "codemirror_mode": {
    "name": "ipython",
    "version": 3
   },
   "file_extension": ".py",
   "mimetype": "text/x-python",
   "name": "python",
   "nbconvert_exporter": "python",
   "pygments_lexer": "ipython3",
   "version": "3.10.6"
  },
  "orig_nbformat": 4,
  "vscode": {
   "interpreter": {
    "hash": "916dbcbb3f70747c44a77c7bcd40155683ae19c65e1c03b4aa3499c5328201f1"
   }
  }
 },
 "nbformat": 4,
 "nbformat_minor": 2
}
