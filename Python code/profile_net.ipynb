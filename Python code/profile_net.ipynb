{
 "cells": [
  {
   "cell_type": "code",
   "execution_count": 1,
   "metadata": {},
   "outputs": [
    {
     "name": "stdout",
     "output_type": "stream",
     "text": [
      "Num available GPU: 1\n",
      "Time to prepare data: 0.6935844000000002 seconds\n",
      "The execution time is: 2.1774816 seconds\n"
     ]
    }
   ],
   "source": [
    "import numpy as np\n",
    "from tensorflow.keras import layers, Input, Model\n",
    "from models import *\n",
    "import time\n",
    "import os\n",
    "\n",
    "#os.environ[\"CUDA_VISIBLE_DEVICES\"] = \"-1\"\n",
    "import tensorflow as tf\n",
    "\n",
    "print(\"Num available GPU:\",len(tf.config.list_physical_devices('GPU')))\n",
    "\n",
    "start_time = time.perf_counter()\n",
    "# Load the weigths in parameters_v2\n",
    "time1 = time.perf_counter()\n",
    "\n",
    "model = get_model()\n",
    "model.load_weights('parameters.h5')\n",
    "\n",
    "# Load test data\n",
    "X_0 = np.load('X_0.npy')\n",
    "tmp = np.reshape(X_0, (250, 64, 4)) #vedere se i dati possono essere salvati gia' reshappati\n",
    "tmp= tf.convert_to_tensor(tmp, dtype=tf.float32)\n",
    "time2 = time.perf_counter()\n",
    "\n",
    "output = model(tmp)\n",
    "end_time = time.perf_counter()\n",
    "print(f\"Time to prepare data: {time2 - time1} seconds\")\n",
    "print(f\"The execution time is: {end_time - start_time} seconds\")\n",
    "\n",
    "#np.savetxt('python_result.txt', (output[0, :, :]).numpy(),fmt='%f')\n",
    "\n"
   ]
  }
 ],
 "metadata": {
  "kernelspec": {
   "display_name": "Python 3",
   "language": "python",
   "name": "python3"
  },
  "language_info": {
   "codemirror_mode": {
    "name": "ipython",
    "version": 3
   },
   "file_extension": ".py",
   "mimetype": "text/x-python",
   "name": "python",
   "nbconvert_exporter": "python",
   "pygments_lexer": "ipython3",
   "version": "3.9.16"
  },
  "orig_nbformat": 4
 },
 "nbformat": 4,
 "nbformat_minor": 2
}
