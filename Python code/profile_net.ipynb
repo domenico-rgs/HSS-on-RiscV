{
 "cells": [
  {
   "cell_type": "code",
   "execution_count": null,
   "metadata": {},
   "outputs": [],
   "source": [
    "import numpy as np\n",
    "from tensorflow.keras import layers, Input, Model\n",
    "from models import *\n",
    "import time\n",
    "import os\n",
    "\n",
    "#os.environ[\"CUDA_VISIBLE_DEVICES\"] = \"-1\"\n",
    "import tensorflow as tf\n",
    "\n",
    "print(\"Num available GPU:\",len(tf.config.list_physical_devices('GPU')))\n",
    "\n",
    "start_time = time.perf_counter()\n",
    "# Load the weigths in parameters_v2\n",
    "time1 = time.perf_counter()\n",
    "\n",
    "model = get_model()\n",
    "model.load_weights('parameters.h5')\n",
    "\n",
    "# Load test data\n",
    "for i in range(169):\n",
    "    X = np.load('../parameters/inputs/X_'+str(i)+'.npy')\n",
    "\n",
    "    #time2 = time.perf_counter()\n",
    "\n",
    "    for j in range(250): #to be similar to c code\n",
    "        tmp = np.reshape(X[j,:,:], (1, 64, 4))\n",
    "        tmp= tf.convert_to_tensor(tmp, dtype=tf.float32)\n",
    "        output = model(tmp)\n",
    "\n",
    "        if(i==168 and j==249):\n",
    "            np.savetxt('python_result.txt', (output[0, :, :]).numpy(),fmt='%f')\n",
    "\n",
    "    if(i%30==0):\n",
    "        print(\"Processed \"+str(i+1)+f\" samples - time: {time.perf_counter() - start_time} seconds\")\n",
    "\n",
    "print(\"Total execution time for \"+str(i)+f\" samples is: {time.perf_counter() - start_time} seconds\")\n",
    "\n",
    "#np.savetxt('python_result.txt', (output[0, :, :]).numpy(),fmt='%f')"
   ]
  }
 ],
 "metadata": {
  "kernelspec": {
   "display_name": "Python 3",
   "language": "python",
   "name": "python3"
  },
  "language_info": {
   "codemirror_mode": {
    "name": "ipython",
    "version": 3
   },
   "file_extension": ".py",
   "mimetype": "text/x-python",
   "name": "python",
   "nbconvert_exporter": "python",
   "pygments_lexer": "ipython3",
   "version": "3.10.6"
  },
  "orig_nbformat": 4
 },
 "nbformat": 4,
 "nbformat_minor": 2
}
