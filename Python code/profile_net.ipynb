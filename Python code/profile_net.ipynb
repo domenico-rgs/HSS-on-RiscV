{
 "cells": [
  {
   "cell_type": "code",
   "execution_count": 7,
   "metadata": {},
   "outputs": [
    {
     "name": "stdout",
     "output_type": "stream",
     "text": [
      "The execution time is: 2.5207209000363946\n"
     ]
    }
   ],
   "source": [
    "import numpy as np\n",
    "from tensorflow.keras import layers, Input, Model\n",
    "import tensorflow as tf\n",
    "from models import *\n",
    "\n",
    "# Load the weigths in parameters_v2\n",
    "model = get_model()\n",
    "model.load_weights('parameters.h5')\n",
    "\n",
    "# Load test data\n",
    "X_0 = np.load('X_0.npy')\n",
    "\n",
    "lista = []\n",
    "for i in range(250):\n",
    "    tmp = X_0[i, :, :]\n",
    "    tmp = np.reshape(tmp , (1, 64, 4))\n",
    "    tmp= tf.convert_to_tensor(tmp, dtype=tf.float32)\n",
    "    lista.append(tmp)\n",
    "\n",
    "import time\n",
    "\n",
    "start_time = time.perf_counter()\n",
    "for i in lista:\n",
    "    output = model(i)\n",
    "end_time = time.perf_counter()\n",
    "print(f\"The execution time is: {end_time - start_time}\")\n",
    "\n",
    "output = model(lista[0])\n",
    "np.savetxt('python_result.txt', (output[0, :, :]).numpy(),fmt='%f')"
   ]
  }
 ],
 "metadata": {
  "kernelspec": {
   "display_name": "Python 3",
   "language": "python",
   "name": "python3"
  },
  "language_info": {
   "codemirror_mode": {
    "name": "ipython",
    "version": 3
   },
   "file_extension": ".py",
   "mimetype": "text/x-python",
   "name": "python",
   "nbconvert_exporter": "python",
   "pygments_lexer": "ipython3",
   "version": "3.10.10"
  },
  "orig_nbformat": 4
 },
 "nbformat": 4,
 "nbformat_minor": 2
}
